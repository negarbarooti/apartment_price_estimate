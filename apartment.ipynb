{
 "cells": [
  {
   "cell_type": "code",
   "execution_count": null,
   "metadata": {},
   "outputs": [],
   "source": [
    "import numpy as np\n",
    "import matplotlib.pyplot as plt\n",
    "import tensorflow as tf\n",
    "import csv"
   ]
  },
  {
   "cell_type": "code",
   "execution_count": null,
   "metadata": {},
   "outputs": [],
   "source": [
    "file = open('final_data.csv')"
   ]
  },
  {
   "cell_type": "code",
   "execution_count": null,
   "metadata": {},
   "outputs": [],
   "source": [
    "csvreader = csv.reader(file)"
   ]
  },
  {
   "cell_type": "code",
   "execution_count": null,
   "metadata": {},
   "outputs": [],
   "source": [
    "columns = next(csvreader)\n",
    "columns"
   ]
  },
  {
   "cell_type": "code",
   "execution_count": null,
   "metadata": {},
   "outputs": [],
   "source": [
    "rows = []\n",
    "for row in csvreader:\n",
    "        rows.append(row)\n",
    "rows"
   ]
  },
  {
   "cell_type": "code",
   "execution_count": null,
   "metadata": {},
   "outputs": [],
   "source": [
    "BHK = []\n",
    "for row in rows :\n",
    "    if(row[5] == ''):\n",
    "        BHK.append(0)\n",
    "    else:\n",
    "        BHK.append(float(row[5]))\n",
    "prices = []\n",
    "for row in rows :\n",
    "    if(row[6] == '') :\n",
    "        prices.append(0)\n",
    "    else:\n",
    "        prices.append(float(row[6]))\n",
    "per_month_emi = []\n",
    "for row in rows :\n",
    "    if(row[7]==''):\n",
    "        per_month_emi.append(0)\n",
    "    else:\n",
    "        per_month_emi.append(float(row[7]))\n",
    "total_sqft = []\n",
    "for row in rows :\n",
    "    if(row[8]==''):\n",
    "        total_sqft.append(0)\n",
    "    else:\n",
    "        total_sqft.append(float(row[8]))\n"
   ]
  },
  {
   "cell_type": "code",
   "execution_count": null,
   "metadata": {},
   "outputs": [],
   "source": [
    "spaces = []\n",
    "for row in rows :\n",
    "    spaces.append(float(row[10]) * float(row[11]))\n",
    "spaces"
   ]
  },
  {
   "cell_type": "code",
   "execution_count": null,
   "metadata": {},
   "outputs": [],
   "source": [
    "# observations = 1000000\n",
    "ss = np.array(spaces)\n",
    "bs = np.array(BHK)\n",
    "ms = np.array(per_month_emi)\n",
    "ts = np.array(total_sqft)\n",
    "ps = np.array(prices)\n",
    "\n",
    "inputs = np.column_stack((ss,bs,ms,ts,ps))\n",
    "assert not np.any(np.isnan(inputs))\n",
    "inputs\n",
    "\n"
   ]
  },
  {
   "cell_type": "code",
   "execution_count": null,
   "metadata": {},
   "outputs": [],
   "source": [
    "#create target\n",
    "\n",
    "targets = np.array(prices)\n",
    "assert not np.any(np.isnan(targets))\n",
    "np.savez('TF_apartment' , inputs=inputs , outputs=targets)\n",
    "targets"
   ]
  },
  {
   "cell_type": "code",
   "execution_count": null,
   "metadata": {},
   "outputs": [],
   "source": [
    "training_data = np.load('TF_apartment.npz')"
   ]
  },
  {
   "cell_type": "code",
   "execution_count": null,
   "metadata": {},
   "outputs": [],
   "source": [
    "#create our model\n",
    "#it was a simple linear regression model\n",
    "input_size = 5\n",
    "output_size = 1\n",
    "model = tf.keras.Sequential([\n",
    "        #customize weights and biases:\n",
    "        #kernel : weight\n",
    "\n",
    "    tf.keras.layers.Dense(output_size \n",
    "    ,kernel_initializer = tf.random_uniform_initializer(minval=-0.1 , maxval=0.1) ,\n",
    "    bias_initializer = tf.random_uniform_initializer(minval=-0.1 , maxval=0.1) \n",
    "    )\n",
    "])\n",
    "#customize learning rate\n",
    "\n",
    "custom_optimizer = tf.keras.optimizers.SGD(learning_rate = 0.00000009)\n",
    "\n",
    "model.compile(optimizer = custom_optimizer  , loss='mean_squared_error' )\n",
    "model.fit(training_data['inputs'] , training_data['outputs'] , epochs=100 , verbose=2)"
   ]
  },
  {
   "cell_type": "code",
   "execution_count": null,
   "metadata": {},
   "outputs": [],
   "source": [
    "weights = model.layers[0].get_weights()[0]\n",
    "weights"
   ]
  },
  {
   "cell_type": "code",
   "execution_count": null,
   "metadata": {},
   "outputs": [],
   "source": [
    "bias = model.layers[0].get_weights()[1]\n",
    "bias"
   ]
  },
  {
   "cell_type": "code",
   "execution_count": null,
   "metadata": {},
   "outputs": [],
   "source": [
    "#extract the output (make predictions)\n",
    "model.predict_on_batch(training_data['inputs']).round(1)"
   ]
  },
  {
   "cell_type": "code",
   "execution_count": null,
   "metadata": {},
   "outputs": [],
   "source": [
    "training_data['outputs'].round(1)"
   ]
  },
  {
   "cell_type": "code",
   "execution_count": null,
   "metadata": {},
   "outputs": [],
   "source": [
    "#plotting the data\n",
    "plt.plot(np.squeeze(model.predict_on_batch(training_data['inputs'])) , np.squeeze(training_data['outputs']))\n",
    "plt.xlabel('outputs')\n",
    "plt.ylabel('targets')\n",
    "plt.show()"
   ]
  }
 ],
 "metadata": {
  "interpreter": {
   "hash": "582e37c8a57030b38e37f90bb20544d43a5a306672d3cfba7fe42b38f5d28673"
  },
  "kernelspec": {
   "display_name": "Python 3.10.4 ('py3-TF2.0')",
   "language": "python",
   "name": "python3"
  },
  "language_info": {
   "codemirror_mode": {
    "name": "ipython",
    "version": 3
   },
   "file_extension": ".py",
   "mimetype": "text/x-python",
   "name": "python",
   "nbconvert_exporter": "python",
   "pygments_lexer": "ipython3",
   "version": "3.10.4"
  },
  "orig_nbformat": 4
 },
 "nbformat": 4,
 "nbformat_minor": 2
}
